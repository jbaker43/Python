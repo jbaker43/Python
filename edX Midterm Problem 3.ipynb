{
 "cells": [
  {
   "cell_type": "markdown",
   "metadata": {},
   "source": [
    "Write a Python function, twoQuadratics , that takes in two sets of coe􀃕cients and xvalues\n",
    "and prints the sum of the results of evaluating two quadratic equations. It does not\n",
    "do anything else. That is, you should evaluate and print the result of the following\n",
    "equation:\n",
    "You are given the following function, evalQuadratic"
   ]
  },
  {
   "cell_type": "code",
   "execution_count": 1,
   "metadata": {},
   "outputs": [
    {
     "name": "stdout",
     "output_type": "stream",
     "text": [
      "Enter a1:1\n",
      "Enter b1:2\n",
      "Enter c1:3\n",
      "Enter x1:4\n",
      "Enter a2:5\n",
      "Enter b2:6\n",
      "Enter c2:7\n",
      "Enter x2:8\n",
      "Result=  402\n"
     ]
    }
   ],
   "source": [
    "#Problem 3 (Really Probelm 1)\n",
    "def evalQuadratic(a,b,c,x):\n",
    "    return a*x*x + b*x + c\n",
    "def twoQuadratics ():\n",
    "    a1 = int (input(\"Enter a1:\"))\n",
    "    b1 = int (input(\"Enter b1:\"))\n",
    "    c1 = int (input(\"Enter c1:\"))\n",
    "    x1 = int (input(\"Enter x1:\"))\n",
    "    a2 = int (input(\"Enter a2:\"))\n",
    "    b2 = int (input(\"Enter b2:\"))\n",
    "    c2 = int (input(\"Enter c2:\"))\n",
    "    x2 = int (input(\"Enter x2:\"))\n",
    "    result1 = evalQuadratic(a1,b1,c1,x1)\n",
    "    result2 = evalQuadratic(a2,b2,c2,x2)\n",
    "    print(\"Result= \" , result1 + result2)\n",
    "twoQuadratics()\n",
    "\n",
    "#this seems to be correct."
   ]
  },
  {
   "cell_type": "code",
   "execution_count": null,
   "metadata": {},
   "outputs": [],
   "source": []
  }
 ],
 "metadata": {
  "kernelspec": {
   "display_name": "Python 3",
   "language": "python",
   "name": "python3"
  },
  "language_info": {
   "codemirror_mode": {
    "name": "ipython",
    "version": 3
   },
   "file_extension": ".py",
   "mimetype": "text/x-python",
   "name": "python",
   "nbconvert_exporter": "python",
   "pygments_lexer": "ipython3",
   "version": "3.7.4"
  }
 },
 "nbformat": 4,
 "nbformat_minor": 2
}
