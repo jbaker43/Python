{
 "cells": [
  {
   "cell_type": "markdown",
   "metadata": {},
   "source": [
    "Assume s is a string of lower case characters.\n",
    "\n",
    "Write a program that prints the number of times the string 'bob' occurs in s. For example, if s = s = 'azcbobobegghakl', then your program should print\n",
    "\n",
    "Number of times bob occurs is: 2"
   ]
  },
  {
   "cell_type": "code",
   "execution_count": 11,
   "metadata": {},
   "outputs": [
    {
     "name": "stdout",
     "output_type": "stream",
     "text": [
      "Number of times bob occurs is 2\n"
     ]
    }
   ],
   "source": [
    "#the way that ill solve this is by using the len() methid in a for loop\n",
    "\n",
    "s = 'azcbobobegghakl'\n",
    "\n",
    "# initialize counts\n",
    "\n",
    "counts = 0\n",
    "# for loop\n",
    "# forgot : and thats why it was saying invalid syntax. It now should work for any defined str.\n",
    "for n in range(len(s)):\n",
    "    if s[n:n+3] == 'bob': # from how i understand this solution to this problem, the for loop is searching through the string \n",
    "        # for 3 char strings and comparing them to what we are looking for, in this case bob but it could work for others as well.\n",
    "        # once it comes upon a str that is == to 'bob' it increases the var 'counts' then prints our result.\n",
    "        counts += 1\n",
    "print(\"Number of times bob occurs is \" + str(counts))\n",
    "# the program now works."
   ]
  },
  {
   "cell_type": "markdown",
   "metadata": {},
   "source": [
    "This is another way of solving the problem by changing the string however its not as complete as the one above."
   ]
  },
  {
   "cell_type": "code",
   "execution_count": 14,
   "metadata": {},
   "outputs": [
    {
     "name": "stdout",
     "output_type": "stream",
     "text": [
      "2\n"
     ]
    }
   ],
   "source": [
    "# define the string in this case it will be the same as above\n",
    "\n",
    "s = 'azcbobobegghaklbob'\n",
    "print(s.count(\"bob\"))\n",
    "# the .count method does not see the two bob's back to back so to get this program to work coreectly we would have to change the string\n",
    "#to.\n",
    "# now the program can see the two cases of the str bob.\n",
    "\n",
    "\n",
    "# lets put the first solution into the code checker from edX.\n"
   ]
  },
  {
   "cell_type": "code",
   "execution_count": null,
   "metadata": {},
   "outputs": [],
   "source": []
  }
 ],
 "metadata": {
  "kernelspec": {
   "display_name": "Python 3",
   "language": "python",
   "name": "python3"
  },
  "language_info": {
   "codemirror_mode": {
    "name": "ipython",
    "version": 3
   },
   "file_extension": ".py",
   "mimetype": "text/x-python",
   "name": "python",
   "nbconvert_exporter": "python",
   "pygments_lexer": "ipython3",
   "version": "3.7.4"
  }
 },
 "nbformat": 4,
 "nbformat_minor": 2
}
