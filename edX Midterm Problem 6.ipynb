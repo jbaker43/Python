{
 "cells": [
  {
   "cell_type": "markdown",
   "metadata": {},
   "source": [
    "Copy and paste is still not working for some of these, im sorry\n",
    "\n",
    "This is the max_val function\n"
   ]
  },
  {
   "cell_type": "code",
   "execution_count": 2,
   "metadata": {},
   "outputs": [
    {
     "name": "stdout",
     "output_type": "stream",
     "text": [
      "5\n",
      "9\n"
     ]
    }
   ],
   "source": [
    "def max_val(t):\n",
    "    result = 0\n",
    "    for e in t:\n",
    "        try:\n",
    "            if e > result:\n",
    "                result = e\n",
    "        except:\n",
    "            if max_val(e) > result:\n",
    "                result = max_val(e)\n",
    "    return result\n",
    "#first test\n",
    "print(max_val((5,(1,2),[[1],[2]])))\n",
    "print(max_val((5,(1,2),[[1],[9]])))\n",
    "\n",
    "#this is now working\n"
   ]
  },
  {
   "cell_type": "code",
   "execution_count": null,
   "metadata": {},
   "outputs": [],
   "source": []
  }
 ],
 "metadata": {
  "kernelspec": {
   "display_name": "Python 3",
   "language": "python",
   "name": "python3"
  },
  "language_info": {
   "codemirror_mode": {
    "name": "ipython",
    "version": 3
   },
   "file_extension": ".py",
   "mimetype": "text/x-python",
   "name": "python",
   "nbconvert_exporter": "python",
   "pygments_lexer": "ipython3",
   "version": "3.7.4"
  }
 },
 "nbformat": 4,
 "nbformat_minor": 2
}
