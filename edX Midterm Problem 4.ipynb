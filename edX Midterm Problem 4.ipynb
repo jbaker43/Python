{
 "cells": [
  {
   "cell_type": "markdown",
   "metadata": {},
   "source": [
    "Implementing a deep reverse function. The copy and paste is not working i apologize "
   ]
  },
  {
   "cell_type": "code",
   "execution_count": 3,
   "metadata": {},
   "outputs": [
    {
     "name": "stdout",
     "output_type": "stream",
     "text": [
      "[[7, 6, 5], [4, 3], [2, 1]]\n"
     ]
    }
   ],
   "source": [
    "def deep_reverse(L):\n",
    "    L.reverse()\n",
    "    for sublist in L:\n",
    "        sublist.reverse()\n",
    "#we will do the test case now\n",
    "L = [[1,2],[3,4],[5,6,7]]\n",
    "deep_reverse(L)\n",
    "print(L)\n",
    "##sorry about that........................\n",
    "##The Code is now working, if that colon was a snake it would've bit me....\n"
   ]
  },
  {
   "cell_type": "code",
   "execution_count": null,
   "metadata": {},
   "outputs": [],
   "source": []
  }
 ],
 "metadata": {
  "kernelspec": {
   "display_name": "Python 3",
   "language": "python",
   "name": "python3"
  },
  "language_info": {
   "codemirror_mode": {
    "name": "ipython",
    "version": 3
   },
   "file_extension": ".py",
   "mimetype": "text/x-python",
   "name": "python",
   "nbconvert_exporter": "python",
   "pygments_lexer": "ipython3",
   "version": "3.7.4"
  }
 },
 "nbformat": 4,
 "nbformat_minor": 2
}
