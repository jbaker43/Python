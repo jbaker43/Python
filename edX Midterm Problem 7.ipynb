{
 "cells": [
  {
   "cell_type": "markdown",
   "metadata": {},
   "source": []
  },
  {
   "cell_type": "code",
   "execution_count": 2,
   "metadata": {},
   "outputs": [
    {
     "name": "stdout",
     "output_type": "stream",
     "text": [
      "1\n"
     ]
    }
   ],
   "source": [
    "def f(s):\n",
    "    return 'a' in s\n",
    "def satisfiesF(L):\n",
    "    newList = L.copy()\n",
    "    for i in newList:\n",
    "        result = f(i)\n",
    "        if result == False:\n",
    "            L.remove(i)\n",
    "    return len(L)\n",
    "#Test with the given values\n",
    "L = ['a', 'b', 'c']\n",
    "print(satisfiesF(L))\n",
    "#i know im close but im very confused by this problem. "
   ]
  },
  {
   "cell_type": "code",
   "execution_count": null,
   "metadata": {},
   "outputs": [],
   "source": []
  }
 ],
 "metadata": {
  "kernelspec": {
   "display_name": "Python 3",
   "language": "python",
   "name": "python3"
  },
  "language_info": {
   "codemirror_mode": {
    "name": "ipython",
    "version": 3
   },
   "file_extension": ".py",
   "mimetype": "text/x-python",
   "name": "python",
   "nbconvert_exporter": "python",
   "pygments_lexer": "ipython3",
   "version": "3.7.4"
  }
 },
 "nbformat": 4,
 "nbformat_minor": 2
}
