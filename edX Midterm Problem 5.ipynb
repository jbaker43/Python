{
 "cells": [
  {
   "cell_type": "markdown",
   "metadata": {},
   "source": [
    "Write a function called dict_invert that takes in a dictionary with immutable values\n",
    "and returns the inverse of the dictionary. The inverse of a dictionary d is another\n",
    "dictionary whose keys are the unique dictionary values in d . The value for a key in the\n",
    "inverse dictionary is a sorted list of all keys in d that have the same value in d .\n",
    "Here are some examples:\n",
    "If d = {1:10, 2:20, 3:30} then dict_invert(d) returns\n",
    "{10: [1], 20: [2], 30: [3]}\n",
    "If d = {1:10, 2:20, 3:30, 4:30} then dict_invert(d) returns\n",
    "{10: [1], 20: [2], 30: [3, 4]}\n",
    "If d = {4:True, 2:True, 0:True} then dict_invert(d) returns\n",
    "{True: [0, 2, 4]}\n"
   ]
  },
  {
   "cell_type": "code",
   "execution_count": 5,
   "metadata": {},
   "outputs": [
    {
     "name": "stdout",
     "output_type": "stream",
     "text": [
      "{10: [1], 20: [2], 30: [3]}\n"
     ]
    }
   ],
   "source": [
    "def dict_invert(d):\n",
    "    newDict = {}\n",
    "    keysList = []\n",
    "    valuesList = []\n",
    "    #using a for loop\n",
    "    for keyItem in d.keys():\n",
    "        keysList.append(keyItem)\n",
    "    for valueItem in d.values():\n",
    "        valuesList.append(valueItem)\n",
    "    for item in range(len(keysList)):\n",
    "        if valuesList[item] in newDict.keys():\n",
    "            newDict[valuesList[item]] += [keysList[it]]\n",
    "        else:\n",
    "            newDict[valuesList[item]] = [keysList[item]]\n",
    "    return newDict\n",
    "#using the numbers provided in the pdf\n",
    "print(dict_invert({1:10 , 2:20 , 3:30}))\n",
    "\n",
    "#the code seems to be working properly now\n",
    "\n",
    "\n"
   ]
  },
  {
   "cell_type": "code",
   "execution_count": null,
   "metadata": {},
   "outputs": [],
   "source": []
  }
 ],
 "metadata": {
  "kernelspec": {
   "display_name": "Python 3",
   "language": "python",
   "name": "python3"
  },
  "language_info": {
   "codemirror_mode": {
    "name": "ipython",
    "version": 3
   },
   "file_extension": ".py",
   "mimetype": "text/x-python",
   "name": "python",
   "nbconvert_exporter": "python",
   "pygments_lexer": "ipython3",
   "version": "3.7.4"
  }
 },
 "nbformat": 4,
 "nbformat_minor": 2
}
