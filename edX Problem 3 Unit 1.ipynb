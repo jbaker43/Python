{
 "cells": [
  {
   "cell_type": "markdown",
   "metadata": {},
   "source": [
    "Assume s is a string of lower case characters.\n",
    "\n",
    "Write a program that prints the longest substring of s in which the letters occur in alphabetical order. For example, if s = 'azcbobobegghakl', then your program should print\n",
    "\n",
    "Longest substring in alphabetical order is: beggh\n",
    "In the case of ties, print the first substring. For example, if s = 'abcbcd', then your program should print\n",
    "\n",
    "Longest substring in alphabetical order is: abc"
   ]
  },
  {
   "cell_type": "code",
   "execution_count": 3,
   "metadata": {},
   "outputs": [
    {
     "name": "stdout",
     "output_type": "stream",
     "text": [
      "Longest substring in alphabetical order is bcdefg\n"
     ]
    }
   ],
   "source": [
    "s = 'azbcdefgbcd'\n",
    "maxLen = 0\n",
    "current = s[0]\n",
    "longest = s[0]\n",
    "# using a for loop\n",
    "for i in range(len(s)-1):\n",
    "    if s[i+1] >= s[i]:\n",
    "        current += s[i+1]\n",
    "        if len(current) > maxLen:\n",
    "            maxLen = len(current)\n",
    "            longest = current\n",
    "    else:\n",
    "        current = s[i+1]\n",
    "        i += 1\n",
    "print('Longest substring in alphabetical order is ' + longest)\n",
    "# working as expected."
   ]
  },
  {
   "cell_type": "code",
   "execution_count": null,
   "metadata": {},
   "outputs": [],
   "source": []
  }
 ],
 "metadata": {
  "kernelspec": {
   "display_name": "Python 3",
   "language": "python",
   "name": "python3"
  },
  "language_info": {
   "codemirror_mode": {
    "name": "ipython",
    "version": 3
   },
   "file_extension": ".py",
   "mimetype": "text/x-python",
   "name": "python",
   "nbconvert_exporter": "python",
   "pygments_lexer": "ipython3",
   "version": "3.7.4"
  }
 },
 "nbformat": 4,
 "nbformat_minor": 2
}
